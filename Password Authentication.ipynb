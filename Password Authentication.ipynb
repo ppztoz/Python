{
  "nbformat": 4,
  "nbformat_minor": 0,
  "metadata": {
    "colab": {
      "provenance": []
    },
    "kernelspec": {
      "name": "python3",
      "display_name": "Python 3"
    },
    "language_info": {
      "name": "python"
    }
  },
  "cells": [
    {
      "cell_type": "code",
      "source": [
        "import getpass\n",
        "user_database = {\n",
        "    \"Amerin.int\": \"amer1234\",\n",
        "    \"Loganer.jin\": \"logan1234\"\n",
        "    }\n",
        "username = input(\"Enter Your Username : \")\n",
        "password = getpass.getpass(\"Enter Your Password : \")\n",
        "for i in user_database.keys():\n",
        "    if username == i:\n",
        "        while password != user_database.get(i):\n",
        "            password = getpass.getpass(\"Enter Your Password Again : \")\n",
        "        break\n",
        "print(\"Verified\")\n"
      ],
      "metadata": {
        "colab": {
          "base_uri": "https://localhost:8080/"
        },
        "id": "r97GIpu2LcqD",
        "outputId": "c4ad1a12-35c4-4f7a-ab59-35c10d4df37f"
      },
      "execution_count": null,
      "outputs": [
        {
          "output_type": "stream",
          "name": "stdout",
          "text": [
            "Enter Your Username : Amerin.int\n",
            "Enter Your Password : ··········\n",
            "Verified\n"
          ]
        }
      ]
    }
  ]
}